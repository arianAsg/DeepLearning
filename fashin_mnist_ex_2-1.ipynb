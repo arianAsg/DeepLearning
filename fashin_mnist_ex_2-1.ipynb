{
 "cells": [
  {
   "cell_type": "code",
   "execution_count": 1,
   "metadata": {},
   "outputs": [],
   "source": [
    "import tensorflow as tf\n",
    "import numpy as np\n",
    "import matplotlib.pyplot as plt"
   ]
  },
  {
   "cell_type": "markdown",
   "metadata": {},
   "source": [
    "# Downloading the data"
   ]
  },
  {
   "cell_type": "code",
   "execution_count": 2,
   "metadata": {},
   "outputs": [
    {
     "name": "stdout",
     "output_type": "stream",
     "text": [
      "Downloading data from https://storage.googleapis.com/tensorflow/tf-keras-datasets/train-labels-idx1-ubyte.gz\n",
      "32768/29515 [=================================] - 0s 9us/step\n",
      "40960/29515 [=========================================] - 0s 7us/step\n",
      "Downloading data from https://storage.googleapis.com/tensorflow/tf-keras-datasets/train-images-idx3-ubyte.gz\n",
      "26427392/26421880 [==============================] - 46s 2us/step\n",
      "26435584/26421880 [==============================] - 46s 2us/step\n",
      "Downloading data from https://storage.googleapis.com/tensorflow/tf-keras-datasets/t10k-labels-idx1-ubyte.gz\n",
      "16384/5148 [===============================================================================================] - 0s 0s/step\n",
      "Downloading data from https://storage.googleapis.com/tensorflow/tf-keras-datasets/t10k-images-idx3-ubyte.gz\n",
      "4423680/4422102 [==============================] - 8s 2us/step\n",
      "4431872/4422102 [==============================] - 8s 2us/step\n"
     ]
    }
   ],
   "source": [
    "fashion_mnist = tf.keras.datasets.fashion_mnist\n",
    "(train_images, train_labels), (test_images, test_labels) = fashion_mnist.load_data()\n"
   ]
  },
  {
   "cell_type": "markdown",
   "metadata": {},
   "source": [
    "# About data"
   ]
  },
  {
   "cell_type": "code",
   "execution_count": 3,
   "metadata": {},
   "outputs": [
    {
     "data": {
      "text/plain": [
       "array([9, 0, 0, ..., 3, 0, 5], dtype=uint8)"
      ]
     },
     "execution_count": 3,
     "metadata": {},
     "output_type": "execute_result"
    }
   ],
   "source": [
    "train_labels"
   ]
  },
  {
   "cell_type": "code",
   "execution_count": 4,
   "metadata": {},
   "outputs": [
    {
     "data": {
      "text/plain": [
       "60000"
      ]
     },
     "execution_count": 4,
     "metadata": {},
     "output_type": "execute_result"
    }
   ],
   "source": [
    "len(train_labels)\n"
   ]
  },
  {
   "cell_type": "markdown",
   "metadata": {},
   "source": [
    "# Some images from dataset"
   ]
  },
  {
   "cell_type": "code",
   "execution_count": 5,
   "metadata": {},
   "outputs": [
    {
     "data": {
      "image/png": "[encoded data removed]",
      "text/plain": [
       "<Figure size 432x288 with 2 Axes>"
      ]
     },
     "metadata": {
      "needs_background": "light"
     },
     "output_type": "display_data"
    }
   ],
   "source": [
    "plt.figure()\n",
    "plt.imshow(train_images[0])\n",
    "plt.colorbar()\n",
    "plt.grid(False)\n",
    "plt.show()\n"
   ]
  },
  {
   "cell_type": "code",
   "execution_count": 6,
   "metadata": {},
   "outputs": [
    {
     "data": {
      "image/png": "[encoded data removed]",
      "text/plain": [
       "<Figure size 432x288 with 2 Axes>"
      ]
     },
     "metadata": {
      "needs_background": "light"
     },
     "output_type": "display_data"
    }
   ],
   "source": [
    "plt.figure()\n",
    "plt.imshow(train_images[5])\n",
    "plt.colorbar()\n",
    "plt.grid(False)\n",
    "plt.show()"
   ]
  },
  {
   "cell_type": "code",
   "execution_count": 7,
   "metadata": {},
   "outputs": [
    {
     "data": {
      "image/png": "[encoded data removed]",
      "text/plain": [
       "<Figure size 432x288 with 2 Axes>"
      ]
     },
     "metadata": {
      "needs_background": "light"
     },
     "output_type": "display_data"
    }
   ],
   "source": [
    "plt.figure()\n",
    "plt.imshow(train_images[15])\n",
    "plt.colorbar()\n",
    "plt.grid(False)\n",
    "plt.show()"
   ]
  },
  {
   "cell_type": "code",
   "execution_count": 8,
   "metadata": {},
   "outputs": [],
   "source": [
    "train_images = train_images / 255.0\n",
    "\n",
    "test_images = test_images / 255.0\n"
   ]
  },
  {
   "cell_type": "markdown",
   "metadata": {},
   "source": [
    "# Model"
   ]
  },
  {
   "cell_type": "code",
   "execution_count": 9,
   "metadata": {},
   "outputs": [],
   "source": [
    "model = tf.keras.Sequential([\n",
    "    tf.keras.layers.Flatten(input_shape=(28, 28)),\n",
    "    tf.keras.layers.Dense(128, activation='relu'),\n",
    "    tf.keras.layers.Dense(10)\n",
    "])\n"
   ]
  },
  {
   "cell_type": "code",
   "execution_count": 10,
   "metadata": {},
   "outputs": [],
   "source": [
    "model.compile(optimizer='adam',\n",
    "              loss=tf.keras.losses.SparseCategoricalCrossentropy(from_logits=True),\n",
    "              metrics=['accuracy'])\n"
   ]
  },
  {
   "cell_type": "code",
   "execution_count": 12,
   "metadata": {},
   "outputs": [
    {
     "name": "stdout",
     "output_type": "stream",
     "text": [
      "Epoch 1/100\n",
      "150/150 [==============================] - 1s 4ms/step - loss: 0.2515 - accuracy: 0.9067\n",
      "Epoch 2/100\n",
      "150/150 [==============================] - 1s 4ms/step - loss: 0.2412 - accuracy: 0.9099\n",
      "Epoch 3/100\n",
      "150/150 [==============================] - 1s 4ms/step - loss: 0.2374 - accuracy: 0.9118\n",
      "Epoch 4/100\n",
      "150/150 [==============================] - 1s 4ms/step - loss: 0.2350 - accuracy: 0.9130\n",
      "Epoch 5/100\n",
      "150/150 [==============================] - 1s 5ms/step - loss: 0.2330 - accuracy: 0.9133\n",
      "Epoch 6/100\n",
      "150/150 [==============================] - 1s 5ms/step - loss: 0.2313 - accuracy: 0.9135\n",
      "Epoch 7/100\n",
      "150/150 [==============================] - 1s 4ms/step - loss: 0.2296 - accuracy: 0.9147\n",
      "Epoch 8/100\n",
      "150/150 [==============================] - 1s 4ms/step - loss: 0.2277 - accuracy: 0.9150\n",
      "Epoch 9/100\n",
      "150/150 [==============================] - 1s 4ms/step - loss: 0.2263 - accuracy: 0.9154\n",
      "Epoch 10/100\n",
      "150/150 [==============================] - 1s 5ms/step - loss: 0.2240 - accuracy: 0.9163\n",
      "Epoch 11/100\n",
      "150/150 [==============================] - 1s 5ms/step - loss: 0.2224 - accuracy: 0.9176\n",
      "Epoch 12/100\n",
      "150/150 [==============================] - 1s 5ms/step - loss: 0.2207 - accuracy: 0.9178\n",
      "Epoch 13/100\n",
      "150/150 [==============================] - 1s 5ms/step - loss: 0.2189 - accuracy: 0.9186\n",
      "Epoch 14/100\n",
      "150/150 [==============================] - 1s 5ms/step - loss: 0.2167 - accuracy: 0.9193\n",
      "Epoch 15/100\n",
      "150/150 [==============================] - 1s 5ms/step - loss: 0.2148 - accuracy: 0.9204\n",
      "Epoch 16/100\n",
      "150/150 [==============================] - 1s 5ms/step - loss: 0.2130 - accuracy: 0.9209\n",
      "Epoch 17/100\n",
      "150/150 [==============================] - 1s 5ms/step - loss: 0.2107 - accuracy: 0.9217\n",
      "Epoch 18/100\n",
      "150/150 [==============================] - 1s 5ms/step - loss: 0.2084 - accuracy: 0.9227\n",
      "Epoch 19/100\n",
      "150/150 [==============================] - 1s 5ms/step - loss: 0.2072 - accuracy: 0.9229\n",
      "Epoch 20/100\n",
      "150/150 [==============================] - 1s 4ms/step - loss: 0.2043 - accuracy: 0.9236\n",
      "Epoch 21/100\n",
      "150/150 [==============================] - 1s 4ms/step - loss: 0.2027 - accuracy: 0.9247\n",
      "Epoch 22/100\n",
      "150/150 [==============================] - 1s 4ms/step - loss: 0.2002 - accuracy: 0.9260\n",
      "Epoch 23/100\n",
      "150/150 [==============================] - 1s 4ms/step - loss: 0.1980 - accuracy: 0.9266\n",
      "Epoch 24/100\n",
      "150/150 [==============================] - 1s 4ms/step - loss: 0.1946 - accuracy: 0.9282\n",
      "Epoch 25/100\n",
      "150/150 [==============================] - 1s 4ms/step - loss: 0.1930 - accuracy: 0.9291\n",
      "Epoch 26/100\n",
      "150/150 [==============================] - 1s 4ms/step - loss: 0.1910 - accuracy: 0.9292\n",
      "Epoch 27/100\n",
      "150/150 [==============================] - 1s 4ms/step - loss: 0.1869 - accuracy: 0.9306\n",
      "Epoch 28/100\n",
      "150/150 [==============================] - 1s 4ms/step - loss: 0.1853 - accuracy: 0.9315\n",
      "Epoch 29/100\n",
      "150/150 [==============================] - 1s 4ms/step - loss: 0.1832 - accuracy: 0.9320\n",
      "Epoch 30/100\n",
      "150/150 [==============================] - 1s 4ms/step - loss: 0.1808 - accuracy: 0.9337\n",
      "Epoch 31/100\n",
      "150/150 [==============================] - 1s 4ms/step - loss: 0.1775 - accuracy: 0.9348\n",
      "Epoch 32/100\n",
      "150/150 [==============================] - 1s 4ms/step - loss: 0.1761 - accuracy: 0.9359\n",
      "Epoch 33/100\n",
      "150/150 [==============================] - 1s 4ms/step - loss: 0.1723 - accuracy: 0.9367\n",
      "Epoch 34/100\n",
      "150/150 [==============================] - 1s 4ms/step - loss: 0.1705 - accuracy: 0.9378\n",
      "Epoch 35/100\n",
      "150/150 [==============================] - 1s 4ms/step - loss: 0.1673 - accuracy: 0.9394\n",
      "Epoch 36/100\n",
      "150/150 [==============================] - 1s 4ms/step - loss: 0.1651 - accuracy: 0.9402\n",
      "Epoch 37/100\n",
      "150/150 [==============================] - 1s 4ms/step - loss: 0.1624 - accuracy: 0.9409\n",
      "Epoch 38/100\n",
      "150/150 [==============================] - 1s 4ms/step - loss: 0.1620 - accuracy: 0.9414\n",
      "Epoch 39/100\n",
      "150/150 [==============================] - 1s 4ms/step - loss: 0.1567 - accuracy: 0.9431\n",
      "Epoch 40/100\n",
      "150/150 [==============================] - 1s 4ms/step - loss: 0.1563 - accuracy: 0.9427\n",
      "Epoch 41/100\n",
      "150/150 [==============================] - 1s 5ms/step - loss: 0.1533 - accuracy: 0.9439: 0s - loss: 0\n",
      "Epoch 42/100\n",
      "150/150 [==============================] - 1s 4ms/step - loss: 0.1524 - accuracy: 0.9439\n",
      "Epoch 43/100\n",
      "150/150 [==============================] - 1s 5ms/step - loss: 0.1495 - accuracy: 0.9455\n",
      "Epoch 44/100\n",
      "150/150 [==============================] - 1s 4ms/step - loss: 0.1478 - accuracy: 0.9467\n",
      "Epoch 45/100\n",
      "150/150 [==============================] - 1s 4ms/step - loss: 0.1440 - accuracy: 0.9477\n",
      "Epoch 46/100\n",
      "150/150 [==============================] - 1s 4ms/step - loss: 0.1433 - accuracy: 0.9481\n",
      "Epoch 47/100\n",
      "150/150 [==============================] - 1s 4ms/step - loss: 0.1397 - accuracy: 0.9497\n",
      "Epoch 48/100\n",
      "150/150 [==============================] - 1s 4ms/step - loss: 0.1380 - accuracy: 0.9497\n",
      "Epoch 49/100\n",
      "150/150 [==============================] - 1s 4ms/step - loss: 0.1362 - accuracy: 0.9505\n",
      "Epoch 50/100\n",
      "150/150 [==============================] - 1s 4ms/step - loss: 0.1333 - accuracy: 0.9521\n",
      "Epoch 51/100\n",
      "150/150 [==============================] - 1s 4ms/step - loss: 0.1341 - accuracy: 0.9508\n",
      "Epoch 52/100\n",
      "150/150 [==============================] - 1s 4ms/step - loss: 0.1313 - accuracy: 0.9530\n",
      "Epoch 53/100\n",
      "150/150 [==============================] - 1s 4ms/step - loss: 0.1301 - accuracy: 0.9544\n",
      "Epoch 54/100\n",
      "150/150 [==============================] - 1s 4ms/step - loss: 0.1268 - accuracy: 0.9543\n",
      "Epoch 55/100\n",
      "150/150 [==============================] - 1s 4ms/step - loss: 0.1257 - accuracy: 0.9550\n",
      "Epoch 56/100\n",
      "150/150 [==============================] - 1s 4ms/step - loss: 0.1238 - accuracy: 0.9547\n",
      "Epoch 57/100\n",
      "150/150 [==============================] - 1s 4ms/step - loss: 0.1212 - accuracy: 0.9564\n",
      "Epoch 58/100\n",
      "150/150 [==============================] - 1s 4ms/step - loss: 0.1196 - accuracy: 0.9578\n",
      "Epoch 59/100\n",
      "150/150 [==============================] - 1s 4ms/step - loss: 0.1180 - accuracy: 0.9576\n",
      "Epoch 60/100\n",
      "150/150 [==============================] - 1s 4ms/step - loss: 0.1171 - accuracy: 0.9587\n",
      "Epoch 61/100\n",
      "150/150 [==============================] - 1s 4ms/step - loss: 0.1161 - accuracy: 0.9588\n",
      "Epoch 62/100\n",
      "150/150 [==============================] - 1s 4ms/step - loss: 0.1129 - accuracy: 0.9599\n",
      "Epoch 63/100\n",
      "150/150 [==============================] - 1s 4ms/step - loss: 0.1126 - accuracy: 0.9597\n",
      "Epoch 64/100\n",
      "150/150 [==============================] - 1s 4ms/step - loss: 0.1116 - accuracy: 0.9600\n",
      "Epoch 65/100\n",
      "150/150 [==============================] - 1s 5ms/step - loss: 0.1091 - accuracy: 0.9615\n",
      "Epoch 66/100\n",
      "150/150 [==============================] - 1s 5ms/step - loss: 0.1073 - accuracy: 0.9626\n",
      "Epoch 67/100\n",
      "150/150 [==============================] - 1s 5ms/step - loss: 0.1058 - accuracy: 0.9629\n",
      "Epoch 68/100\n",
      "150/150 [==============================] - 1s 5ms/step - loss: 0.1039 - accuracy: 0.9632\n",
      "Epoch 69/100\n",
      "150/150 [==============================] - 1s 5ms/step - loss: 0.1025 - accuracy: 0.9637\n",
      "Epoch 70/100\n",
      "150/150 [==============================] - 1s 4ms/step - loss: 0.1025 - accuracy: 0.9638\n",
      "Epoch 71/100\n",
      "150/150 [==============================] - 1s 4ms/step - loss: 0.1007 - accuracy: 0.9645\n",
      "Epoch 72/100\n",
      "150/150 [==============================] - 1s 4ms/step - loss: 0.0983 - accuracy: 0.9655\n",
      "Epoch 73/100\n",
      "150/150 [==============================] - 1s 4ms/step - loss: 0.0981 - accuracy: 0.9654\n",
      "Epoch 74/100\n",
      "150/150 [==============================] - 1s 4ms/step - loss: 0.0960 - accuracy: 0.9664\n",
      "Epoch 75/100\n",
      "150/150 [==============================] - 1s 4ms/step - loss: 0.0938 - accuracy: 0.9667\n",
      "Epoch 76/100\n",
      "150/150 [==============================] - 1s 4ms/step - loss: 0.0943 - accuracy: 0.9669\n",
      "Epoch 77/100\n",
      "150/150 [==============================] - 1s 4ms/step - loss: 0.0919 - accuracy: 0.9678\n",
      "Epoch 78/100\n",
      "150/150 [==============================] - 1s 4ms/step - loss: 0.0927 - accuracy: 0.9670\n",
      "Epoch 79/100\n",
      "150/150 [==============================] - 1s 5ms/step - loss: 0.0901 - accuracy: 0.9679\n",
      "Epoch 80/100\n",
      "150/150 [==============================] - 1s 5ms/step - loss: 0.0884 - accuracy: 0.9689\n",
      "Epoch 81/100\n",
      "150/150 [==============================] - 1s 4ms/step - loss: 0.0876 - accuracy: 0.9695\n",
      "Epoch 82/100\n",
      "150/150 [==============================] - 1s 4ms/step - loss: 0.0856 - accuracy: 0.9700\n",
      "Epoch 83/100\n",
      "150/150 [==============================] - 1s 4ms/step - loss: 0.0836 - accuracy: 0.9709\n",
      "Epoch 84/100\n",
      "150/150 [==============================] - 1s 4ms/step - loss: 0.0829 - accuracy: 0.9706\n",
      "Epoch 85/100\n",
      "150/150 [==============================] - 1s 4ms/step - loss: 0.0813 - accuracy: 0.9719\n",
      "Epoch 86/100\n",
      "150/150 [==============================] - 1s 5ms/step - loss: 0.0804 - accuracy: 0.9723\n",
      "Epoch 87/100\n",
      "150/150 [==============================] - 1s 4ms/step - loss: 0.0803 - accuracy: 0.9718\n",
      "Epoch 88/100\n",
      "150/150 [==============================] - 1s 4ms/step - loss: 0.0786 - accuracy: 0.9730\n",
      "Epoch 89/100\n",
      "150/150 [==============================] - 1s 4ms/step - loss: 0.0784 - accuracy: 0.9724\n",
      "Epoch 90/100\n",
      "150/150 [==============================] - 1s 4ms/step - loss: 0.0766 - accuracy: 0.9734\n",
      "Epoch 91/100\n",
      "150/150 [==============================] - 1s 4ms/step - loss: 0.0758 - accuracy: 0.9741\n",
      "Epoch 92/100\n",
      "150/150 [==============================] - 1s 5ms/step - loss: 0.0751 - accuracy: 0.9743\n",
      "Epoch 93/100\n",
      "150/150 [==============================] - 1s 5ms/step - loss: 0.0729 - accuracy: 0.9748\n",
      "Epoch 94/100\n",
      "150/150 [==============================] - 1s 4ms/step - loss: 0.0723 - accuracy: 0.9757\n",
      "Epoch 95/100\n",
      "150/150 [==============================] - 1s 4ms/step - loss: 0.0703 - accuracy: 0.9760\n",
      "Epoch 96/100\n",
      "150/150 [==============================] - 1s 4ms/step - loss: 0.0713 - accuracy: 0.9750\n",
      "Epoch 97/100\n",
      "150/150 [==============================] - 1s 4ms/step - loss: 0.0697 - accuracy: 0.9762\n",
      "Epoch 98/100\n",
      "150/150 [==============================] - 1s 4ms/step - loss: 0.0672 - accuracy: 0.9778\n",
      "Epoch 99/100\n",
      "150/150 [==============================] - 1s 4ms/step - loss: 0.0681 - accuracy: 0.9767\n",
      "Epoch 100/100\n",
      "150/150 [==============================] - 1s 4ms/step - loss: 0.0665 - accuracy: 0.9775\n"
     ]
    },
    {
     "data": {
      "text/plain": [
       "<keras.callbacks.History at 0x20c1aa72eb0>"
      ]
     },
     "execution_count": 12,
     "metadata": {},
     "output_type": "execute_result"
    }
   ],
   "source": [
    "model.fit(train_images, train_labels,batch_size=400, epochs=100)\n"
   ]
  },
  {
   "cell_type": "code",
   "execution_count": 13,
   "metadata": {},
   "outputs": [
    {
     "name": "stdout",
     "output_type": "stream",
     "text": [
      "313/313 - 0s - loss: 0.4858 - accuracy: 0.8893\n"
     ]
    }
   ],
   "source": [
    "test_loss, test_acc = model.evaluate(test_images,  test_labels, verbose=2)\n"
   ]
  },
  {
   "cell_type": "markdown",
   "metadata": {},
   "source": []
  }
 ],
 "metadata": {
  "kernelspec": {
   "display_name": "Python 3",
   "language": "python",
   "name": "python3"
  },
  "language_info": {
   "codemirror_mode": {
    "name": "ipython",
    "version": 3
   },
   "file_extension": ".py",
   "mimetype": "text/x-python",
   "name": "python",
   "nbconvert_exporter": "python",
   "pygments_lexer": "ipython3",
   "version": "3.8.5"
  }
 },
 "nbformat": 4,
 "nbformat_minor": 4
}
