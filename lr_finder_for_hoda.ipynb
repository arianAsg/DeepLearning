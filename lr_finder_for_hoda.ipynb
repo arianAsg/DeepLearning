{
 "cells": [
  {
   "cell_type": "code",
   "execution_count": 19,
   "metadata": {},
   "outputs": [],
   "source": [
    "import numpy as np\n",
    "from scipy import io\n",
    "import matplotlib.pyplot as plt\n",
    "from skimage.transform import resize\n",
    "import tensorflow as tf"
   ]
  },
  {
   "cell_type": "code",
   "execution_count": 28,
   "metadata": {},
   "outputs": [],
   "source": [
    "dataset = io.loadmat('Data_hoda_full.mat')"
   ]
  },
  {
   "cell_type": "code",
   "execution_count": 31,
   "metadata": {},
   "outputs": [],
   "source": [
    "X_train_orginal = np.squeeze(dataset['Data'][:1000])\n",
    "y_train = np.squeeze(dataset['labels'][:1000])\n",
    "X_test_original = np.squeeze(dataset['Data'][1000:1200])\n",
    "y_test = np.squeeze(dataset['labels'][1000:1200])"
   ]
  },
  {
   "cell_type": "code",
   "execution_count": 32,
   "metadata": {},
   "outputs": [],
   "source": [
    "X_train_5by5 = [resize(img, (5, 5)) for img in X_train_orginal]\n",
    "X_test_5by_5 = [resize(img, (5, 5)) for img in X_test_original]"
   ]
  },
  {
   "cell_type": "code",
   "execution_count": 33,
   "metadata": {},
   "outputs": [],
   "source": [
    "X_train = [x.reshape(25) for x in X_train_5by5]\n",
    "X_test = [x.reshape(25) for x in X_test_5by_5]"
   ]
  },
  {
   "cell_type": "code",
   "execution_count": 38,
   "metadata": {},
   "outputs": [],
   "source": [
    "def create_model():\n",
    "    return tf.keras.models.Sequential([\n",
    "        tf.keras.layers.Flatten(input_dim=25),\n",
    "        tf.keras.layers.Dense(512, activation='relu'),\n",
    "        tf.keras.layers.Dropout(0.2),\n",
    "        tf.keras.layers.Dense(10, activation='softmax')\n",
    "    ])"
   ]
  },
  {
   "cell_type": "code",
   "execution_count": 39,
   "metadata": {},
   "outputs": [],
   "source": [
    "MIN_LR = 1e-5"
   ]
  },
  {
   "cell_type": "code",
   "execution_count": 40,
   "metadata": {},
   "outputs": [
    {
     "name": "stderr",
     "output_type": "stream",
     "text": [
      "C:\\Users\\Arianpc\\anaconda3\\lib\\site-packages\\keras\\optimizer_v2\\optimizer_v2.py:355: UserWarning: The `lr` argument is deprecated, use `learning_rate` instead.\n",
      "  warnings.warn(\n"
     ]
    }
   ],
   "source": [
    "\n",
    "\n",
    "model = create_model()\n",
    "opt = tf.keras.optimizers.SGD(lr=MIN_LR, momentum=0.9)\n",
    "\n",
    "model.compile(optimizer=opt,\n",
    "              loss='sparse_categorical_crossentropy',\n",
    "              metrics=['accuracy'])\n",
    "\n"
   ]
  },
  {
   "cell_type": "code",
   "execution_count": 45,
   "metadata": {},
   "outputs": [],
   "source": [
    "from learningratefinder import LearningRateFinder"
   ]
  },
  {
   "cell_type": "code",
   "execution_count": 44,
   "metadata": {},
   "outputs": [
    {
     "name": "stdout",
     "output_type": "stream",
     "text": [
      "Epoch 1/64\n",
      "32/32 [==============================] - 0s 2ms/step - loss: 2.3303 - accuracy: 0.0830\n",
      "Epoch 2/64\n",
      "32/32 [==============================] - 0s 2ms/step - loss: 2.3305 - accuracy: 0.0740\n",
      "Epoch 3/64\n",
      "32/32 [==============================] - 0s 2ms/step - loss: 2.3322 - accuracy: 0.0780\n",
      "Epoch 4/64\n",
      "32/32 [==============================] - 0s 1ms/step - loss: 2.3339 - accuracy: 0.0780\n",
      "Epoch 5/64\n",
      "32/32 [==============================] - 0s 2ms/step - loss: 2.3268 - accuracy: 0.0930\n",
      "Epoch 6/64\n",
      "32/32 [==============================] - 0s 2ms/step - loss: 2.3354 - accuracy: 0.0750\n",
      "Epoch 7/64\n",
      "32/32 [==============================] - 0s 2ms/step - loss: 2.3298 - accuracy: 0.0850\n",
      "Epoch 8/64\n",
      "32/32 [==============================] - 0s 1ms/step - loss: 2.3309 - accuracy: 0.0850\n",
      "Epoch 9/64\n",
      "32/32 [==============================] - 0s 2ms/step - loss: 2.3350 - accuracy: 0.0930\n",
      "Epoch 10/64\n",
      "32/32 [==============================] - 0s 2ms/step - loss: 2.3312 - accuracy: 0.0820\n",
      "Epoch 11/64\n",
      "32/32 [==============================] - 0s 2ms/step - loss: 2.3332 - accuracy: 0.0800\n",
      "Epoch 12/64\n",
      "32/32 [==============================] - 0s 2ms/step - loss: 2.3315 - accuracy: 0.0970\n",
      "Epoch 13/64\n",
      "32/32 [==============================] - 0s 2ms/step - loss: 2.3286 - accuracy: 0.1040\n",
      "Epoch 14/64\n",
      "32/32 [==============================] - 0s 2ms/step - loss: 2.3328 - accuracy: 0.0870\n",
      "Epoch 15/64\n",
      "32/32 [==============================] - 0s 2ms/step - loss: 2.3357 - accuracy: 0.0850\n",
      "Epoch 16/64\n",
      "32/32 [==============================] - 0s 2ms/step - loss: 2.3322 - accuracy: 0.0890\n",
      "Epoch 17/64\n",
      "32/32 [==============================] - 0s 2ms/step - loss: 2.3311 - accuracy: 0.0970\n",
      "Epoch 18/64\n",
      "32/32 [==============================] - 0s 2ms/step - loss: 2.3335 - accuracy: 0.0770\n",
      "Epoch 19/64\n",
      "32/32 [==============================] - 0s 2ms/step - loss: 2.3331 - accuracy: 0.0870\n",
      "Epoch 20/64\n",
      "32/32 [==============================] - 0s 2ms/step - loss: 2.3327 - accuracy: 0.0860\n",
      "Epoch 21/64\n",
      "32/32 [==============================] - 0s 2ms/step - loss: 2.3320 - accuracy: 0.0870\n",
      "Epoch 22/64\n",
      "32/32 [==============================] - 0s 2ms/step - loss: 2.3345 - accuracy: 0.0900\n",
      "Epoch 23/64\n",
      "32/32 [==============================] - 0s 2ms/step - loss: 2.3264 - accuracy: 0.0890\n",
      "Epoch 24/64\n",
      "32/32 [==============================] - 0s 2ms/step - loss: 2.3298 - accuracy: 0.0890\n",
      "Epoch 25/64\n",
      "32/32 [==============================] - 0s 2ms/step - loss: 2.3309 - accuracy: 0.0850\n",
      "Epoch 26/64\n",
      "32/32 [==============================] - 0s 2ms/step - loss: 2.3331 - accuracy: 0.0940\n",
      "Epoch 27/64\n",
      "32/32 [==============================] - 0s 2ms/step - loss: 2.3309 - accuracy: 0.0830\n",
      "Epoch 28/64\n",
      "32/32 [==============================] - 0s 1ms/step - loss: 2.3247 - accuracy: 0.0930\n",
      "Epoch 29/64\n",
      "32/32 [==============================] - 0s 2ms/step - loss: 2.3332 - accuracy: 0.0800\n",
      "Epoch 30/64\n",
      "32/32 [==============================] - 0s 2ms/step - loss: 2.3314 - accuracy: 0.0840\n",
      "Epoch 31/64\n",
      "32/32 [==============================] - 0s 2ms/step - loss: 2.3298 - accuracy: 0.0810\n",
      "Epoch 32/64\n",
      "32/32 [==============================] - 0s 2ms/step - loss: 2.3271 - accuracy: 0.0870\n",
      "Epoch 33/64\n",
      "32/32 [==============================] - 0s 2ms/step - loss: 2.3230 - accuracy: 0.0870\n",
      "Epoch 34/64\n",
      "32/32 [==============================] - 0s 2ms/step - loss: 2.3204 - accuracy: 0.0900\n",
      "Epoch 35/64\n",
      "32/32 [==============================] - 0s 2ms/step - loss: 2.3152 - accuracy: 0.0990\n",
      "Epoch 36/64\n",
      "32/32 [==============================] - 0s 2ms/step - loss: 2.3013 - accuracy: 0.1310\n",
      "Epoch 37/64\n",
      "32/32 [==============================] - 0s 2ms/step - loss: 2.2898 - accuracy: 0.1310\n",
      "Epoch 38/64\n",
      "32/32 [==============================] - 0s 2ms/step - loss: 2.2693 - accuracy: 0.1870\n",
      "Epoch 39/64\n",
      "32/32 [==============================] - 0s 3ms/step - loss: 2.2435 - accuracy: 0.2240\n",
      "Epoch 40/64\n",
      "32/32 [==============================] - 0s 2ms/step - loss: 2.2025 - accuracy: 0.3010\n",
      "Epoch 41/64\n",
      "32/32 [==============================] - 0s 2ms/step - loss: 2.1525 - accuracy: 0.3570\n",
      "Epoch 42/64\n",
      "32/32 [==============================] - 0s 3ms/step - loss: 2.0838 - accuracy: 0.4080\n",
      "Epoch 43/64\n",
      "32/32 [==============================] - 0s 2ms/step - loss: 1.9943 - accuracy: 0.4480\n",
      "Epoch 44/64\n",
      "32/32 [==============================] - 0s 3ms/step - loss: 1.8708 - accuracy: 0.5550\n",
      "Epoch 45/64\n",
      "32/32 [==============================] - 0s 3ms/step - loss: 1.6988 - accuracy: 0.6450\n",
      "Epoch 46/64\n",
      "32/32 [==============================] - 0s 2ms/step - loss: 1.4685 - accuracy: 0.7220\n",
      "Epoch 47/64\n",
      "32/32 [==============================] - 0s 2ms/step - loss: 1.1888 - accuracy: 0.7680\n",
      "Epoch 48/64\n",
      "32/32 [==============================] - 0s 3ms/step - loss: 0.9027 - accuracy: 0.8070\n",
      "Epoch 49/64\n",
      "32/32 [==============================] - 0s 2ms/step - loss: 0.6756 - accuracy: 0.8460\n",
      "Epoch 50/64\n",
      "32/32 [==============================] - 0s 2ms/step - loss: 0.5220 - accuracy: 0.8670\n",
      "Epoch 51/64\n",
      "32/32 [==============================] - 0s 2ms/step - loss: 0.4101 - accuracy: 0.8870\n",
      "Epoch 52/64\n",
      "32/32 [==============================] - 0s 2ms/step - loss: 0.3278 - accuracy: 0.9070\n",
      "Epoch 53/64\n",
      "32/32 [==============================] - 0s 2ms/step - loss: 0.2880 - accuracy: 0.9140\n",
      "Epoch 54/64\n",
      "32/32 [==============================] - 0s 2ms/step - loss: 0.2786 - accuracy: 0.9120\n",
      "Epoch 55/64\n",
      "32/32 [==============================] - 0s 2ms/step - loss: 0.2729 - accuracy: 0.9190\n",
      "Epoch 56/64\n",
      "32/32 [==============================] - 0s 1ms/step - loss: 0.4118 - accuracy: 0.8670\n",
      "Epoch 57/64\n",
      "32/32 [==============================] - 0s 1ms/step - loss: 0.6256 - accuracy: 0.8270\n",
      "Epoch 58/64\n",
      "32/32 [==============================] - 0s 2ms/step - loss: 0.9876 - accuracy: 0.7830\n",
      "Epoch 59/64\n",
      "32/32 [==============================] - 0s 2ms/step - loss: 1.2865 - accuracy: 0.7000\n",
      "Epoch 60/64\n",
      "32/32 [==============================] - 0s 2ms/step - loss: 1.6883 - accuracy: 0.6104\n"
     ]
    },
    {
     "data": {
      "image/png": "[encoded data removed]",
      "text/plain": [
       "<Figure size 432x288 with 1 Axes>"
      ]
     },
     "metadata": {
      "needs_background": "light"
     },
     "output_type": "display_data"
    }
   ],
   "source": [
    "lrf = LearningRateFinder(model)\n",
    "lrf.find((x_train, y_train),1e-10, 1e+1)\n",
    "# plot the loss for the various learning rates and save the\n",
    "# resulting plot to disk\n",
    "lrf.plot_loss()"
   ]
  },
  {
   "cell_type": "code",
   "execution_count": 43,
   "metadata": {},
   "outputs": [],
   "source": []
  },
  {
   "cell_type": "code",
   "execution_count": null,
   "metadata": {},
   "outputs": [],
   "source": []
  }
 ],
 "metadata": {
  "kernelspec": {
   "display_name": "Python 3",
   "language": "python",
   "name": "python3"
  },
  "language_info": {
   "codemirror_mode": {
    "name": "ipython",
    "version": 3
   },
   "file_extension": ".py",
   "mimetype": "text/x-python",
   "name": "python",
   "nbconvert_exporter": "python",
   "pygments_lexer": "ipython3",
   "version": "3.8.5"
  }
 },
 "nbformat": 4,
 "nbformat_minor": 4
}
